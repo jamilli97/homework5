{
 "cells": [
  {
   "cell_type": "markdown",
   "id": "8f577af1",
   "metadata": {},
   "source": [
    "Alunos: \n",
    "Jamilli Cunha\n",
    "Natan Santos\n",
    "Arthur Soares \n"
   ]
  }
 ],
 "metadata": {
  "kernelspec": {
   "display_name": "Python 3 (ipykernel)",
   "language": "python",
   "name": "python3"
  },
  "language_info": {
   "codemirror_mode": {
    "name": "ipython",
    "version": 3
   },
   "file_extension": ".py",
   "mimetype": "text/x-python",
   "name": "python",
   "nbconvert_exporter": "python",
   "pygments_lexer": "ipython3",
   "version": "3.9.5"
  }
 },
 "nbformat": 4,
 "nbformat_minor": 5
}
